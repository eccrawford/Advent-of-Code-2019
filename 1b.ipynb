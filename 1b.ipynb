{
  "nbformat": 4,
  "nbformat_minor": 0,
  "metadata": {
    "colab": {
      "provenance": [],
      "authorship_tag": "ABX9TyORON/Y7duzVHg3tNr32eE3",
      "include_colab_link": true
    },
    "kernelspec": {
      "name": "python3",
      "display_name": "Python 3"
    },
    "language_info": {
      "name": "python"
    }
  },
  "cells": [
    {
      "cell_type": "markdown",
      "metadata": {
        "id": "view-in-github",
        "colab_type": "text"
      },
      "source": [
        "<a href=\"https://colab.research.google.com/github/eccrawford/Advent-of-Code-2019/blob/master/1b.ipynb\" target=\"_parent\"><img src=\"https://colab.research.google.com/assets/colab-badge.svg\" alt=\"Open In Colab\"/></a>"
      ]
    },
    {
      "cell_type": "markdown",
      "source": [
        "---\n",
        "\n",
        "# Activité 2 : Les variables en Python - MTH1W <img src=\"https://i.imgur.com/qUSxW7s.png\" height=45 width=45 align=right>\n",
        "\n",
        "---\n",
        "\n",
        "# La grande question : Comment utilisons-nous les variables en Python ?\n",
        "\n",
        "La définition d'une variable en Python est très similaire à la façon de définir une variable en mathématiques. \n",
        "\n",
        "Essayez d'exécuter le bloc de code suivant :"
      ],
      "metadata": {
        "id": "pU-txkI_Jnh5"
      }
    },
    {
      "cell_type": "code",
      "source": [
        "a = 5"
      ],
      "metadata": {
        "id": "qARAMsstJzOG"
      },
      "execution_count": null,
      "outputs": []
    },
    {
      "cell_type": "markdown",
      "source": [
        "**Rien ne s'est passé!** C'est bon, Python se souviendra que vous avez défini une variable appelée ``` a ``` et que vous la définissez égale à 5.\n",
        "\n",
        "Définissons une autre variable, appelée ``` b ```, et définissez-le égal à 2. Exécutez le bloc de code ci-dessous :"
      ],
      "metadata": {
        "id": "ii_1Db85J3cQ"
      }
    },
    {
      "cell_type": "code",
      "source": [],
      "metadata": {
        "id": "3vdW4AwkJ_Th"
      },
      "execution_count": null,
      "outputs": []
    },
    {
      "cell_type": "markdown",
      "source": [
        "**En Python, les noms de variables peuvent être plus descriptifs que les lettres standard comme ```a, b, x ``` ou ``` y ```.**\n",
        "<img src=\"https://www.nickzom.org/blog/wp-content/uploads/2018/12/rectangle.png\" height=150 width=300 align=right>\n",
        "\n",
        "Voir le rectangle donné avec une ``` longueur = 9 cm ``` et ``` largeur = 4 cm```.\n",
        " \n",
        "Quelle est la superficie du rectangle ? Notez la formule et n'oubliez pas de montrer vos calculs."
      ],
      "metadata": {
        "id": "QEP-3a2oJ7vR"
      }
    },
    {
      "cell_type": "markdown",
      "source": [
        "Tapez les lignes suivants dans le bloc de code ci-dessous :\n",
        "\n",
        "\n",
        "**longueur = 9**\n",
        "\n",
        "Appuyez sur 'Entrée':\n",
        "\n",
        "**largeur = 4**\n",
        "\n",
        "#Définissez les variables de longueur et de largeur dans le bloc de code ci-dessous.\n",
        "N'oubliez pas d'exécuter le code !\n",
        "\n",
        "\n",
        "\n"
      ],
      "metadata": {
        "id": "HUNR86wSKDG8"
      }
    },
    {
      "cell_type": "code",
      "source": [],
      "metadata": {
        "id": "eceyaA9YKFFM"
      },
      "execution_count": null,
      "outputs": []
    },
    {
      "cell_type": "markdown",
      "source": [
        "Nous venons de définir deux variables, '''longueur''' et '''largeur''', et leur donnons les valeurs 9 et 4. Nous pouvons utiliser ces variables de la même manière que dans l'exemple précédent et les multiplier entre elles.\n",
        "\n",
        "#Tapez la ligne suivant dans le bloc de code ci-dessous :\n",
        "\n",
        "\n",
        "**longueur * largeur**\n",
        "\n",
        "\n",
        "N'oubliez pas d'exécuter le code !"
      ],
      "metadata": {
        "id": "hJfJRhKIVTsF"
      }
    },
    {
      "cell_type": "code",
      "source": [],
      "metadata": {
        "id": "2SEfbGbhVVYU"
      },
      "execution_count": null,
      "outputs": []
    },
    {
      "cell_type": "markdown",
      "source": [
        "**Essayez ce qui suit :** Calculez sur papier, la superficie des formes suivantes. Utilisez ensuite Python pour définir les variables (nommez-les de manière appropriée) et vérifiez ces calculs. Utilisez le bloc de code vide ci-dessous pour définir vos variables et calculer la superficie de chaque forme. N'oubliez pas d'exécuter le code !\n",
        "\n",
        "<img src=\"https://i.imgur.com/bd8JxMz.png\" height=250>\n",
        "\n",
        "## Tapez votre code ci-dessous :"
      ],
      "metadata": {
        "id": "zWxOWiooKMC7"
      }
    },
    {
      "cell_type": "code",
      "source": [],
      "metadata": {
        "id": "LVb01FIbLpkf"
      },
      "execution_count": null,
      "outputs": []
    },
    {
      "cell_type": "markdown",
      "source": [
        "**Avez-vous remarqué comment vous pouviez redéfinir les variables à chaque fois ?** Par exemple, même si nous avons défini précédemment;\n",
        "\n",
        "``` longueur = 9 ```   et ``` largeur = 4 ```\n",
        "\n",
        "\n",
        "nous avons redéfini les variables de longueur et de largeur pour calculer l'aire d'un rectangle différent."
      ],
      "metadata": {
        "id": "VCjMcjVqLtTy"
      }
    },
    {
      "cell_type": "markdown",
      "source": [
        "--- \n",
        "# Un défi supplémentaire - Le PEMDAS plus complexe\n",
        "\n",
        "Nous pouvons utiliser des variables pour nous aider à évaluer des expressions plus complexes. À l'aide des règles PEMDAS, calculez vous-même ce qui suit. Vous pouvez utiliser une calculatrice, mais il est très important d'utiliser correctement les parenthèses pour cette question !\n",
        "\n",
        "## $\\frac{3 - (3 × (2+3))}{(-5)+3^2}$\n",
        "(La réponse est -3)"
      ],
      "metadata": {
        "id": "kRMWwLowLvK7"
      }
    },
    {
      "cell_type": "markdown",
      "source": [
        "\n",
        "## Utilisez Python pour évaluer l'expression : \n",
        "Définir deux variables appelées `numérateur` et `dénominateur`\n",
        "dans le bloc de code ci-dessous. Définissez la variable `numérateur` égale au numérateur dans cette question. Assurez-vous d'utiliser les opérateurs Python appropriés ! Créez une nouvelle ligne en appuyant sur la touche 'Entrée' et faites de même pour le dénominateur.\n",
        "\n",
        "Faites une autre nouvelle ligne, puis tapez,\n",
        "\n",
        "\n",
        "\n",
        "numérateur / dénominateur \n"
      ],
      "metadata": {
        "id": "ADzQdE6YVmlc"
      }
    },
    {
      "cell_type": "code",
      "source": [],
      "metadata": {
        "id": "mWSB8GcGVpWZ"
      },
      "execution_count": null,
      "outputs": []
    },
    {
      "cell_type": "markdown",
      "source": [
        "Vérifiez que l'exécution du bloc de code ci-dessus vous donne -3.0, la bonne réponse.\n",
        "\n",
        "\n",
        "---\n",
        "\n",
        "\n",
        "# Renforcer votre apprentissages : Comment est-ce que les variables Python peuvent être utilisées pour évaluer des expressions mathématiques ?\n",
        "Votre réponse doit inclure au moins 2 façons."
      ],
      "metadata": {
        "id": "598SPoFFLxiC"
      }
    },
    {
      "cell_type": "markdown",
      "source": [],
      "metadata": {
        "id": "bNdXttioLz4o"
      }
    }
  ]
}